{
 "cells": [
  {
   "cell_type": "code",
   "execution_count": 1,
   "metadata": {},
   "outputs": [],
   "source": [
    "import numpy as np\n",
    "import random\n",
    "import time\n",
    "import pandas as pd\n",
    "import matplotlib.pyplot as plt"
   ]
  },
  {
   "cell_type": "code",
   "execution_count": 15,
   "metadata": {},
   "outputs": [
    {
     "data": {
      "text/html": [
       "<div>\n",
       "<style scoped>\n",
       "    .dataframe tbody tr th:only-of-type {\n",
       "        vertical-align: middle;\n",
       "    }\n",
       "\n",
       "    .dataframe tbody tr th {\n",
       "        vertical-align: top;\n",
       "    }\n",
       "\n",
       "    .dataframe thead th {\n",
       "        text-align: right;\n",
       "    }\n",
       "</style>\n",
       "<table border=\"1\" class=\"dataframe\">\n",
       "  <thead>\n",
       "    <tr style=\"text-align: right;\">\n",
       "      <th></th>\n",
       "      <th>fi</th>\n",
       "      <th>X_1</th>\n",
       "      <th>Y_1</th>\n",
       "      <th>Z_1</th>\n",
       "      <th>D_1</th>\n",
       "      <th>X_2</th>\n",
       "      <th>Y_2</th>\n",
       "      <th>Z_2</th>\n",
       "      <th>D_2</th>\n",
       "      <th>X_3</th>\n",
       "      <th>...</th>\n",
       "      <th>Z_3</th>\n",
       "      <th>D_3</th>\n",
       "      <th>X_4</th>\n",
       "      <th>Y_4</th>\n",
       "      <th>Z_4</th>\n",
       "      <th>D_4</th>\n",
       "      <th>X_5</th>\n",
       "      <th>Y_5</th>\n",
       "      <th>Z_5</th>\n",
       "      <th>D_5</th>\n",
       "    </tr>\n",
       "  </thead>\n",
       "  <tbody>\n",
       "    <tr>\n",
       "      <th>0</th>\n",
       "      <td>0.726481</td>\n",
       "      <td>0</td>\n",
       "      <td>0</td>\n",
       "      <td>0</td>\n",
       "      <td>2.0</td>\n",
       "      <td>0.349044</td>\n",
       "      <td>0.265928</td>\n",
       "      <td>0.972677</td>\n",
       "      <td>1.561852</td>\n",
       "      <td>0.349044</td>\n",
       "      <td>...</td>\n",
       "      <td>0.337739</td>\n",
       "      <td>2.000000</td>\n",
       "      <td>0.000000</td>\n",
       "      <td>0.000000e+00</td>\n",
       "      <td>0.000000</td>\n",
       "      <td>2.000000</td>\n",
       "      <td>0.0</td>\n",
       "      <td>0.0</td>\n",
       "      <td>0.0</td>\n",
       "      <td>2.0</td>\n",
       "    </tr>\n",
       "    <tr>\n",
       "      <th>1</th>\n",
       "      <td>0.720714</td>\n",
       "      <td>0</td>\n",
       "      <td>0</td>\n",
       "      <td>0</td>\n",
       "      <td>2.0</td>\n",
       "      <td>0.000000</td>\n",
       "      <td>0.000000</td>\n",
       "      <td>1.368899</td>\n",
       "      <td>1.712087</td>\n",
       "      <td>-0.235701</td>\n",
       "      <td>...</td>\n",
       "      <td>1.058083</td>\n",
       "      <td>2.000000</td>\n",
       "      <td>-0.158910</td>\n",
       "      <td>-1.479915e-01</td>\n",
       "      <td>0.840311</td>\n",
       "      <td>2.000000</td>\n",
       "      <td>0.0</td>\n",
       "      <td>0.0</td>\n",
       "      <td>0.0</td>\n",
       "      <td>2.0</td>\n",
       "    </tr>\n",
       "    <tr>\n",
       "      <th>2</th>\n",
       "      <td>0.719610</td>\n",
       "      <td>0</td>\n",
       "      <td>0</td>\n",
       "      <td>0</td>\n",
       "      <td>2.0</td>\n",
       "      <td>0.141595</td>\n",
       "      <td>0.000000</td>\n",
       "      <td>0.787455</td>\n",
       "      <td>1.383659</td>\n",
       "      <td>0.300092</td>\n",
       "      <td>...</td>\n",
       "      <td>0.628130</td>\n",
       "      <td>2.000000</td>\n",
       "      <td>0.300092</td>\n",
       "      <td>-1.241492e-16</td>\n",
       "      <td>-0.232874</td>\n",
       "      <td>1.931646</td>\n",
       "      <td>0.0</td>\n",
       "      <td>0.0</td>\n",
       "      <td>0.0</td>\n",
       "      <td>2.0</td>\n",
       "    </tr>\n",
       "    <tr>\n",
       "      <th>3</th>\n",
       "      <td>0.718265</td>\n",
       "      <td>0</td>\n",
       "      <td>0</td>\n",
       "      <td>0</td>\n",
       "      <td>2.0</td>\n",
       "      <td>-0.182315</td>\n",
       "      <td>0.659939</td>\n",
       "      <td>0.957302</td>\n",
       "      <td>1.506856</td>\n",
       "      <td>-0.454809</td>\n",
       "      <td>...</td>\n",
       "      <td>0.641036</td>\n",
       "      <td>1.610434</td>\n",
       "      <td>-0.153927</td>\n",
       "      <td>4.882532e-01</td>\n",
       "      <td>0.080096</td>\n",
       "      <td>0.792165</td>\n",
       "      <td>0.0</td>\n",
       "      <td>0.0</td>\n",
       "      <td>0.0</td>\n",
       "      <td>2.0</td>\n",
       "    </tr>\n",
       "    <tr>\n",
       "      <th>4</th>\n",
       "      <td>0.710951</td>\n",
       "      <td>0</td>\n",
       "      <td>0</td>\n",
       "      <td>0</td>\n",
       "      <td>2.0</td>\n",
       "      <td>0.000000</td>\n",
       "      <td>0.000000</td>\n",
       "      <td>0.177737</td>\n",
       "      <td>1.610086</td>\n",
       "      <td>-0.013070</td>\n",
       "      <td>...</td>\n",
       "      <td>0.071688</td>\n",
       "      <td>2.000000</td>\n",
       "      <td>-0.464868</td>\n",
       "      <td>-1.144201e+00</td>\n",
       "      <td>0.696677</td>\n",
       "      <td>0.710946</td>\n",
       "      <td>0.0</td>\n",
       "      <td>0.0</td>\n",
       "      <td>0.0</td>\n",
       "      <td>2.0</td>\n",
       "    </tr>\n",
       "  </tbody>\n",
       "</table>\n",
       "<p>5 rows × 21 columns</p>\n",
       "</div>"
      ],
      "text/plain": [
       "         fi  X_1  Y_1  Z_1  D_1       X_2       Y_2       Z_2       D_2  \\\n",
       "0  0.726481    0    0    0  2.0  0.349044  0.265928  0.972677  1.561852   \n",
       "1  0.720714    0    0    0  2.0  0.000000  0.000000  1.368899  1.712087   \n",
       "2  0.719610    0    0    0  2.0  0.141595  0.000000  0.787455  1.383659   \n",
       "3  0.718265    0    0    0  2.0 -0.182315  0.659939  0.957302  1.506856   \n",
       "4  0.710951    0    0    0  2.0  0.000000  0.000000  0.177737  1.610086   \n",
       "\n",
       "        X_3  ...       Z_3       D_3       X_4           Y_4       Z_4  \\\n",
       "0  0.349044  ...  0.337739  2.000000  0.000000  0.000000e+00  0.000000   \n",
       "1 -0.235701  ...  1.058083  2.000000 -0.158910 -1.479915e-01  0.840311   \n",
       "2  0.300092  ...  0.628130  2.000000  0.300092 -1.241492e-16 -0.232874   \n",
       "3 -0.454809  ...  0.641036  1.610434 -0.153927  4.882532e-01  0.080096   \n",
       "4 -0.013070  ...  0.071688  2.000000 -0.464868 -1.144201e+00  0.696677   \n",
       "\n",
       "        D_4  X_5  Y_5  Z_5  D_5  \n",
       "0  2.000000  0.0  0.0  0.0  2.0  \n",
       "1  2.000000  0.0  0.0  0.0  2.0  \n",
       "2  1.931646  0.0  0.0  0.0  2.0  \n",
       "3  0.792165  0.0  0.0  0.0  2.0  \n",
       "4  0.710946  0.0  0.0  0.0  2.0  \n",
       "\n",
       "[5 rows x 21 columns]"
      ]
     },
     "execution_count": 15,
     "metadata": {},
     "output_type": "execute_result"
    }
   ],
   "source": [
    "Roth_data=pd.read_csv(\"C:/Users/ahw617/Documents/Esma Kurban PhD/Roth Data/5sphere_20dim.csv\",delimiter=\",\",names=['fi','X_1', 'Y_1', 'Z_1','X_2', 'Y_2', 'Z_2','X_3', 'Y_3', 'Z_3','X_4','Y_4', 'Z_4', 'X_5','Y_5', 'Z_5', 'D_1','D_2','D_3','D_4','D_5'])\n",
    "\n",
    "Roth_data=Roth_data[['fi','X_1', 'Y_1', 'Z_1','D_1','X_2', 'Y_2', 'Z_2','D_2','X_3', 'Y_3', 'Z_3','D_3','X_4','Y_4', 'Z_4','D_4', 'X_5','Y_5', 'Z_5','D_5']]\n",
    "Roth_data.head()"
   ]
  },
  {
   "cell_type": "code",
   "execution_count": 10,
   "metadata": {},
   "outputs": [
    {
     "data": {
      "text/html": [
       "<div>\n",
       "<style scoped>\n",
       "    .dataframe tbody tr th:only-of-type {\n",
       "        vertical-align: middle;\n",
       "    }\n",
       "\n",
       "    .dataframe tbody tr th {\n",
       "        vertical-align: top;\n",
       "    }\n",
       "\n",
       "    .dataframe thead th {\n",
       "        text-align: right;\n",
       "    }\n",
       "</style>\n",
       "<table border=\"1\" class=\"dataframe\">\n",
       "  <thead>\n",
       "    <tr style=\"text-align: right;\">\n",
       "      <th></th>\n",
       "      <th>X_1</th>\n",
       "      <th>Y_1</th>\n",
       "      <th>Z_1</th>\n",
       "      <th>D_1</th>\n",
       "      <th>X_2</th>\n",
       "      <th>Y_2</th>\n",
       "      <th>Z_2</th>\n",
       "      <th>D_2</th>\n",
       "      <th>X_3</th>\n",
       "      <th>Y_3</th>\n",
       "      <th>Z_3</th>\n",
       "      <th>D_3</th>\n",
       "      <th>X_4</th>\n",
       "      <th>Y_4</th>\n",
       "      <th>Z_4</th>\n",
       "      <th>D_4</th>\n",
       "      <th>X_5</th>\n",
       "      <th>Y_5</th>\n",
       "      <th>Z_5</th>\n",
       "      <th>D_5</th>\n",
       "    </tr>\n",
       "  </thead>\n",
       "  <tbody>\n",
       "    <tr>\n",
       "      <th>0</th>\n",
       "      <td>0.0</td>\n",
       "      <td>0.0</td>\n",
       "      <td>0.0</td>\n",
       "      <td>2.0</td>\n",
       "      <td>-0.358270</td>\n",
       "      <td>-0.040907</td>\n",
       "      <td>0.822792</td>\n",
       "      <td>1.847334</td>\n",
       "      <td>-0.370235</td>\n",
       "      <td>-0.010951</td>\n",
       "      <td>0.536837</td>\n",
       "      <td>1.965690</td>\n",
       "      <td>-0.477266</td>\n",
       "      <td>0.086340</td>\n",
       "      <td>0.172465</td>\n",
       "      <td>1.982519</td>\n",
       "      <td>-0.669190</td>\n",
       "      <td>0.220112</td>\n",
       "      <td>-0.119617</td>\n",
       "      <td>1.911448</td>\n",
       "    </tr>\n",
       "    <tr>\n",
       "      <th>1</th>\n",
       "      <td>0.0</td>\n",
       "      <td>0.0</td>\n",
       "      <td>0.0</td>\n",
       "      <td>2.0</td>\n",
       "      <td>-0.308417</td>\n",
       "      <td>0.031962</td>\n",
       "      <td>0.950709</td>\n",
       "      <td>1.834269</td>\n",
       "      <td>-0.299378</td>\n",
       "      <td>0.078609</td>\n",
       "      <td>0.708982</td>\n",
       "      <td>1.939500</td>\n",
       "      <td>-0.395769</td>\n",
       "      <td>0.191318</td>\n",
       "      <td>0.360096</td>\n",
       "      <td>1.981000</td>\n",
       "      <td>-0.598061</td>\n",
       "      <td>0.320130</td>\n",
       "      <td>0.006526</td>\n",
       "      <td>1.918847</td>\n",
       "    </tr>\n",
       "    <tr>\n",
       "      <th>2</th>\n",
       "      <td>0.0</td>\n",
       "      <td>0.0</td>\n",
       "      <td>0.0</td>\n",
       "      <td>2.0</td>\n",
       "      <td>-0.304873</td>\n",
       "      <td>-0.009877</td>\n",
       "      <td>0.876307</td>\n",
       "      <td>1.856506</td>\n",
       "      <td>-0.288821</td>\n",
       "      <td>0.028779</td>\n",
       "      <td>0.588636</td>\n",
       "      <td>1.983065</td>\n",
       "      <td>-0.387274</td>\n",
       "      <td>0.138419</td>\n",
       "      <td>0.225635</td>\n",
       "      <td>1.996587</td>\n",
       "      <td>-0.608225</td>\n",
       "      <td>0.284219</td>\n",
       "      <td>-0.094863</td>\n",
       "      <td>1.930648</td>\n",
       "    </tr>\n",
       "    <tr>\n",
       "      <th>3</th>\n",
       "      <td>0.0</td>\n",
       "      <td>0.0</td>\n",
       "      <td>0.0</td>\n",
       "      <td>2.0</td>\n",
       "      <td>-0.296242</td>\n",
       "      <td>0.045465</td>\n",
       "      <td>0.944322</td>\n",
       "      <td>1.838340</td>\n",
       "      <td>-0.272835</td>\n",
       "      <td>0.094742</td>\n",
       "      <td>0.667378</td>\n",
       "      <td>1.985758</td>\n",
       "      <td>-0.366113</td>\n",
       "      <td>0.221164</td>\n",
       "      <td>0.321156</td>\n",
       "      <td>2.018030</td>\n",
       "      <td>-0.567136</td>\n",
       "      <td>0.361928</td>\n",
       "      <td>-0.014410</td>\n",
       "      <td>1.998220</td>\n",
       "    </tr>\n",
       "    <tr>\n",
       "      <th>4</th>\n",
       "      <td>0.0</td>\n",
       "      <td>0.0</td>\n",
       "      <td>0.0</td>\n",
       "      <td>2.0</td>\n",
       "      <td>-0.281563</td>\n",
       "      <td>0.045798</td>\n",
       "      <td>0.917011</td>\n",
       "      <td>1.847648</td>\n",
       "      <td>-0.252760</td>\n",
       "      <td>0.096006</td>\n",
       "      <td>0.627066</td>\n",
       "      <td>1.994494</td>\n",
       "      <td>-0.343894</td>\n",
       "      <td>0.222802</td>\n",
       "      <td>0.282793</td>\n",
       "      <td>2.014620</td>\n",
       "      <td>-0.545959</td>\n",
       "      <td>0.364466</td>\n",
       "      <td>-0.036349</td>\n",
       "      <td>2.011890</td>\n",
       "    </tr>\n",
       "  </tbody>\n",
       "</table>\n",
       "</div>"
      ],
      "text/plain": [
       "   X_1  Y_1  Z_1  D_1       X_2       Y_2       Z_2       D_2       X_3  \\\n",
       "0  0.0  0.0  0.0  2.0 -0.358270 -0.040907  0.822792  1.847334 -0.370235   \n",
       "1  0.0  0.0  0.0  2.0 -0.308417  0.031962  0.950709  1.834269 -0.299378   \n",
       "2  0.0  0.0  0.0  2.0 -0.304873 -0.009877  0.876307  1.856506 -0.288821   \n",
       "3  0.0  0.0  0.0  2.0 -0.296242  0.045465  0.944322  1.838340 -0.272835   \n",
       "4  0.0  0.0  0.0  2.0 -0.281563  0.045798  0.917011  1.847648 -0.252760   \n",
       "\n",
       "        Y_3       Z_3       D_3       X_4       Y_4       Z_4       D_4  \\\n",
       "0 -0.010951  0.536837  1.965690 -0.477266  0.086340  0.172465  1.982519   \n",
       "1  0.078609  0.708982  1.939500 -0.395769  0.191318  0.360096  1.981000   \n",
       "2  0.028779  0.588636  1.983065 -0.387274  0.138419  0.225635  1.996587   \n",
       "3  0.094742  0.667378  1.985758 -0.366113  0.221164  0.321156  2.018030   \n",
       "4  0.096006  0.627066  1.994494 -0.343894  0.222802  0.282793  2.014620   \n",
       "\n",
       "        X_5       Y_5       Z_5       D_5  \n",
       "0 -0.669190  0.220112 -0.119617  1.911448  \n",
       "1 -0.598061  0.320130  0.006526  1.918847  \n",
       "2 -0.608225  0.284219 -0.094863  1.930648  \n",
       "3 -0.567136  0.361928 -0.014410  1.998220  \n",
       "4 -0.545959  0.364466 -0.036349  2.011890  "
      ]
     },
     "execution_count": 10,
     "metadata": {},
     "output_type": "execute_result"
    }
   ],
   "source": [
    "predicted=pd.read_csv(\"C:/Users/ahw617/Documents/Esma Kurban PhD/LAMMPS/5-sphere/predicted_shapes_Adrian/Predictedshapes.csv\",delimiter=\",\",names=['X_1', 'Y_1', 'Z_1','D_1','X_2', 'Y_2', 'Z_2','D_2','X_3', 'Y_3', 'Z_3','D_3','X_4','Y_4', 'Z_4','D_4', 'X_5','Y_5', 'Z_5','D_5'])\n",
    "predicted.head()"
   ]
  },
  {
   "cell_type": "code",
   "execution_count": 14,
   "metadata": {},
   "outputs": [],
   "source": [
    "def plot_sphere(shape,shape_id,n=5):\n",
    "        \n",
    "        fig=plt.figure(figsize=(5,5))\n",
    "        ax=fig.add_subplot(111,projection='3d')\n",
    "        u=np.linspace(0,2*np.pi,100)\n",
    "        v=np.linspace(0,np.pi,100)\n",
    "        color=['r','b','y','m','c']\n",
    "        \n",
    "        for i in range(n):\n",
    "            x=shape[4*i]+shape[4*i+3]*np.outer(np.cos(u),np.sin(v))\n",
    "            y=shape[4*i+1]+shape[4*i+3]*np.outer(np.sin(u),np.sin(v))\n",
    "            z=shape[4*i+2]+shape[4*i+3]*np.outer(np.ones(np.size(u)),np.cos(v))\n",
    "            ax.plot_surface(x,y,z,rstride=5,cstride=5,color=color[i])\n",
    "        \n",
    "        ax.set_xlabel('X axis')\n",
    "        ax.set_ylabel('Y axis')\n",
    "        ax.set_zlabel('Z axis')\n",
    "        ax.set_xlim(-3, 3)\n",
    "        ax.set_ylim(-3, 3)\n",
    "        ax.set_zlim(-3, 3)\n",
    "        ax.set_title('molecule'+str(shape_id+1))\n",
    "        ax.view_init(0,45)"
   ]
  },
  {
   "cell_type": "code",
   "execution_count": 15,
   "metadata": {},
   "outputs": [
    {
     "data": {
      "image/png": "[encoded data removed]",
      "text/plain": [
       "<Figure size 360x360 with 1 Axes>"
      ]
     },
     "metadata": {
      "needs_background": "light"
     },
     "output_type": "display_data"
    },
    {
     "data": {
      "image/png": "[encoded data removed]",
      "text/plain": [
       "<Figure size 360x360 with 1 Axes>"
      ]
     },
     "metadata": {
      "needs_background": "light"
     },
     "output_type": "display_data"
    },
    {
     "data": {
      "image/png": "[encoded data removed]",
      "text/plain": [
       "<Figure size 360x360 with 1 Axes>"
      ]
     },
     "metadata": {
      "needs_background": "light"
     },
     "output_type": "display_data"
    },
    {
     "data": {
      "image/png": "[encoded data removed]",
      "text/plain": [
       "<Figure size 360x360 with 1 Axes>"
      ]
     },
     "metadata": {
      "needs_background": "light"
     },
     "output_type": "display_data"
    },
    {
     "data": {
      "image/png": "[encoded data removed]",
      "text/plain": [
       "<Figure size 360x360 with 1 Axes>"
      ]
     },
     "metadata": {
      "needs_background": "light"
     },
     "output_type": "display_data"
    }
   ],
   "source": [
    "for i in range(5):\n",
    "    shape=predicted.iloc[i,:]\n",
    "    plot_sphere(shape,i)"
   ]
  },
  {
   "cell_type": "code",
   "execution_count": 16,
   "metadata": {},
   "outputs": [],
   "source": [
    "def MonteCarlo_volume_com(shape,ns,nl):\n",
    "    \n",
    "    l=len(shape)\n",
    "    Volume_list=[]\n",
    "    com=np.zeros((nl,3))\n",
    "    xlist, ylist, zlist=shape[:,0],shape[:,1],shape[:,2]\n",
    "    dmax=np.max(shape[:,3])\n",
    "    xmin=np.min(xlist)-dmax/2\n",
    "    xmax=np.max(xlist)+dmax/2\n",
    "    ymin=np.min(ylist)-dmax/2\n",
    "    ymax=np.max(ylist)+dmax/2\n",
    "    zmin=np.min(zlist)-dmax/2\n",
    "    zmax=np.max(zlist)+dmax/2\n",
    "    box_volume=(xmax-xmin)*(ymax-ymin)*(zmax-zmin)\n",
    "    \n",
    "    for i in range(nl):\n",
    "        V=0\n",
    "        j=0\n",
    "        xcom=0\n",
    "        ycom=0\n",
    "        zcom=0\n",
    "        while j<=ns:\n",
    "            counter=0\n",
    "            xv=xmin+random.uniform(0,1)*(xmax-xmin)\n",
    "            yv=ymin+random.uniform(0,1)*(ymax-ymin)\n",
    "            zv=zmin+random.uniform(0,1)*(zmax-zmin)\n",
    "            for k in range(l):\n",
    "                if np.sqrt((xv-shape[k,0])**2+(yv-shape[k,1])**2+(zv-shape[k,2])**2)<=shape[k,3]/2:\n",
    "                        counter+=1\n",
    "            if counter>0:\n",
    "                V+=1\n",
    "                xcom+=xv\n",
    "                ycom+=yv\n",
    "                zcom+=zv\n",
    "            j+=1\n",
    "                \n",
    "        volume=box_volume*V/ns\n",
    "        com[i]=[xcom/V, ycom/V, zcom/V]\n",
    "        Volume_list.append(volume)\n",
    "        \n",
    "    mean_volume=np.mean(Volume_list)\n",
    "    error=np.std(Volume_list,ddof=1)\n",
    "    mean_com=com.mean(axis=0)\n",
    "    return mean_volume,error,list(mean_com)\n",
    "    #print('Particle volume: {}\\nerror: {}\\nParticle center of mass: {}'.format(mean_volume, error, mean_com))\n",
    "    "
   ]
  },
  {
   "cell_type": "code",
   "execution_count": 17,
   "metadata": {},
   "outputs": [],
   "source": [
    "def MonteCarlo_inertia(shape,ns,nl,m,com):\n",
    "    \n",
    "    l=len(shape)\n",
    "    xlist, ylist, zlist=shape[:,0],shape[:,1],shape[:,2]\n",
    "    dmax=np.max(shape[:,3])\n",
    "    xmin=np.min(xlist)-dmax/2\n",
    "    xmax=np.max(xlist)+dmax/2\n",
    "    ymin=np.min(ylist)-dmax/2\n",
    "    ymax=np.max(ylist)+dmax/2\n",
    "    zmin=np.min(zlist)-dmax/2\n",
    "    zmax=np.max(zlist)+dmax/2\n",
    "    \n",
    "    I=np.zeros((nl,6))\n",
    "    for i in range(nl):\n",
    "        I_xx=0\n",
    "        I_yy=0\n",
    "        I_zz=0\n",
    "        I_xy=0\n",
    "        I_xz=0\n",
    "        I_yz=0\n",
    "        V=0\n",
    "        j=0    \n",
    "            \n",
    "        while j<=ns:\n",
    "            counter=0\n",
    "            xv=xmin+random.uniform(0,1)*(xmax-xmin)\n",
    "            yv=ymin+random.uniform(0,1)*(ymax-ymin)\n",
    "            zv=zmin+random.uniform(0,1)*(zmax-zmin)\n",
    "            for k in range(l):\n",
    "                if np.sqrt((xv-shape[k,0])**2+(yv-shape[k,1])**2+(zv-shape[k,2])**2)<=shape[k,3]/2:\n",
    "                        counter+=1\n",
    "            if counter>0:\n",
    "                V+=1\n",
    "                I_xx+=((com[1]-yv)**2+(com[2]-zv)**2)\n",
    "                I_yy+=((com[0]-xv)**2+(com[2]-zv)**2)\n",
    "                I_zz+=((com[0]-xv)**2+(com[1]-yv)**2)\n",
    "                I_xy=I_xy-(com[0]-xv)*(com[1]-yv)\n",
    "                I_xz=I_xz-(com[0]-xv)*(com[2]-zv)\n",
    "                I_yz=I_yz-(com[1]-yv)*(com[2]-zv)\n",
    "            j+=1\n",
    "\n",
    "        I[i]=[I_xx,I_yy,I_zz,I_xy,I_xz,I_yz]\n",
    "        I[i]=[key*m/V for key in I[i]]\n",
    "            \n",
    "    mean_I=I.mean(axis=0)\n",
    "    return list(mean_I)\n",
    "    #print('Particle moment of inertia: {}'.format(mean_I))"
   ]
  },
  {
   "cell_type": "code",
   "execution_count": 18,
   "metadata": {},
   "outputs": [],
   "source": [
    "list_of_test_shapes=[0,1,2,3,4]\n",
    "\n",
    "list_of_names=['molecule'+str(key+1) for key in list_of_test_shapes]\n",
    "\n",
    "array_of_test_shapes=[np.array(predicted.iloc[key,:]).reshape((5,4)) for key in list_of_test_shapes]\n",
    "\n",
    "molecules_info={'molecule_name':list_of_names, 'shape_array':array_of_test_shapes}\n",
    "\n",
    "df=pd.DataFrame(data=molecules_info)\n",
    "df=df.set_index('molecule_name')"
   ]
  },
  {
   "cell_type": "code",
   "execution_count": 19,
   "metadata": {},
   "outputs": [
    {
     "data": {
      "text/html": [
       "<div>\n",
       "<style scoped>\n",
       "    .dataframe tbody tr th:only-of-type {\n",
       "        vertical-align: middle;\n",
       "    }\n",
       "\n",
       "    .dataframe tbody tr th {\n",
       "        vertical-align: top;\n",
       "    }\n",
       "\n",
       "    .dataframe thead th {\n",
       "        text-align: right;\n",
       "    }\n",
       "</style>\n",
       "<table border=\"1\" class=\"dataframe\">\n",
       "  <thead>\n",
       "    <tr style=\"text-align: right;\">\n",
       "      <th></th>\n",
       "      <th>shape_array</th>\n",
       "    </tr>\n",
       "    <tr>\n",
       "      <th>molecule_name</th>\n",
       "      <th></th>\n",
       "    </tr>\n",
       "  </thead>\n",
       "  <tbody>\n",
       "    <tr>\n",
       "      <th>molecule1</th>\n",
       "      <td>[[0.0, 0.0, 0.0, 1.9999999999999898], [-0.3582...</td>\n",
       "    </tr>\n",
       "    <tr>\n",
       "      <th>molecule2</th>\n",
       "      <td>[[0.0, 0.0, 0.0, 1.9999999999999898], [-0.3084...</td>\n",
       "    </tr>\n",
       "    <tr>\n",
       "      <th>molecule3</th>\n",
       "      <td>[[0.0, 0.0, 0.0, 1.9999999999999898], [-0.3048...</td>\n",
       "    </tr>\n",
       "    <tr>\n",
       "      <th>molecule4</th>\n",
       "      <td>[[0.0, 0.0, 0.0, 1.9999999999999898], [-0.2962...</td>\n",
       "    </tr>\n",
       "    <tr>\n",
       "      <th>molecule5</th>\n",
       "      <td>[[0.0, 0.0, 0.0, 1.9999999999999898], [-0.2815...</td>\n",
       "    </tr>\n",
       "  </tbody>\n",
       "</table>\n",
       "</div>"
      ],
      "text/plain": [
       "                                                     shape_array\n",
       "molecule_name                                                   \n",
       "molecule1      [[0.0, 0.0, 0.0, 1.9999999999999898], [-0.3582...\n",
       "molecule2      [[0.0, 0.0, 0.0, 1.9999999999999898], [-0.3084...\n",
       "molecule3      [[0.0, 0.0, 0.0, 1.9999999999999898], [-0.3048...\n",
       "molecule4      [[0.0, 0.0, 0.0, 1.9999999999999898], [-0.2962...\n",
       "molecule5      [[0.0, 0.0, 0.0, 1.9999999999999898], [-0.2815..."
      ]
     },
     "execution_count": 19,
     "metadata": {},
     "output_type": "execute_result"
    }
   ],
   "source": [
    "df.head()"
   ]
  },
  {
   "cell_type": "code",
   "execution_count": 45,
   "metadata": {},
   "outputs": [
    {
     "name": "stdout",
     "output_type": "stream",
     "text": [
      "Time for calculation of molecule volume and center of mass: 4726.727665424347 sec\n"
     ]
    }
   ],
   "source": [
    "molecule_volume=[]\n",
    "volume_error=[]\n",
    "molecule_com=[]\n",
    "\n",
    "start_time=time.time()\n",
    "for shape in df['shape_array']:\n",
    "    \n",
    "    volume, error, com=MonteCarlo_volume_com(shape,10000000,5)\n",
    "    molecule_volume.append(volume)\n",
    "    volume_error.append(error)\n",
    "    molecule_com.append(com)\n",
    "    \n",
    "print('Time for calculation of molecule volume and center of mass: {} sec'.format(time.time()-start_time))\n",
    "\n",
    "df['molecule_volume']=molecule_volume\n",
    "df['volume_error']=volume_error\n",
    "df['molecule_com']=molecule_com"
   ]
  },
  {
   "cell_type": "code",
   "execution_count": 22,
   "metadata": {},
   "outputs": [],
   "source": [
    "volume5, error5, com5=MonteCarlo_volume_com(df.loc['molecule5','shape_array'],10000000,5)"
   ]
  },
  {
   "cell_type": "code",
   "execution_count": 23,
   "metadata": {},
   "outputs": [
    {
     "name": "stdout",
     "output_type": "stream",
     "text": [
      "8.309291931468508 0.0028150066595720342 [-0.279880463011221, 0.14990950891263957, 0.2753857347650968]\n"
     ]
    }
   ],
   "source": [
    "print(volume5, error5, com5)"
   ]
  },
  {
   "cell_type": "code",
   "execution_count": 47,
   "metadata": {},
   "outputs": [
    {
     "name": "stdout",
     "output_type": "stream",
     "text": [
      "Time for calculation of moment of inertia: 5007.684401035309 sec\n"
     ]
    }
   ],
   "source": [
    "molecule_inertia=[]\n",
    "\n",
    "start_time=time.time()\n",
    "for index,row in df.iterrows():\n",
    "    \n",
    "    moment_of_inertia=MonteCarlo_inertia(df.loc[index,'shape_array'],10000000,5,1,df.loc[index,'molecule_com'])\n",
    "    molecule_inertia.append(moment_of_inertia)\n",
    "\n",
    "print('Time for calculation of moment of inertia: {} sec'.format(time.time()-start_time))\n",
    "df['molecule_inertia']=molecule_inertia"
   ]
  },
  {
   "cell_type": "code",
   "execution_count": 24,
   "metadata": {},
   "outputs": [],
   "source": [
    "moment_of_inertia5=MonteCarlo_inertia(df.loc['molecule5','shape_array'],10000000,5,1,com5)"
   ]
  },
  {
   "cell_type": "code",
   "execution_count": 25,
   "metadata": {},
   "outputs": [
    {
     "name": "stdout",
     "output_type": "stream",
     "text": [
      "[0.7050696179264264, 0.7436503883107417, 0.5642131266513104, 0.05280974225973669, -0.005092852571387355, 0.0341752864344124]\n"
     ]
    }
   ],
   "source": [
    "print(moment_of_inertia5)"
   ]
  },
  {
   "cell_type": "code",
   "execution_count": 48,
   "metadata": {},
   "outputs": [
    {
     "data": {
      "text/html": [
       "<div>\n",
       "<style scoped>\n",
       "    .dataframe tbody tr th:only-of-type {\n",
       "        vertical-align: middle;\n",
       "    }\n",
       "\n",
       "    .dataframe tbody tr th {\n",
       "        vertical-align: top;\n",
       "    }\n",
       "\n",
       "    .dataframe thead th {\n",
       "        text-align: right;\n",
       "    }\n",
       "</style>\n",
       "<table border=\"1\" class=\"dataframe\">\n",
       "  <thead>\n",
       "    <tr style=\"text-align: right;\">\n",
       "      <th></th>\n",
       "      <th>shape_array</th>\n",
       "      <th>molecule_volume</th>\n",
       "      <th>volume_error</th>\n",
       "      <th>molecule_com</th>\n",
       "      <th>molecule_inertia</th>\n",
       "    </tr>\n",
       "    <tr>\n",
       "      <th>molecule_name</th>\n",
       "      <th></th>\n",
       "      <th></th>\n",
       "      <th></th>\n",
       "      <th></th>\n",
       "      <th></th>\n",
       "    </tr>\n",
       "  </thead>\n",
       "  <tbody>\n",
       "    <tr>\n",
       "      <th>molecule1</th>\n",
       "      <td>[[0.0, 0.0, 0.0, 1.9999999999999898], [-0.3582...</td>\n",
       "      <td>7.958284</td>\n",
       "      <td>0.003365</td>\n",
       "      <td>[-0.3325444707232998, 0.052542255215747055, 0....</td>\n",
       "      <td>[0.6480621744720472, 0.7445677523477693, 0.560...</td>\n",
       "    </tr>\n",
       "    <tr>\n",
       "      <th>molecule2</th>\n",
       "      <td>[[0.0, 0.0, 0.0, 1.9999999999999898], [-0.3084...</td>\n",
       "      <td>8.046176</td>\n",
       "      <td>0.002423</td>\n",
       "      <td>[-0.2845873244493337, 0.11497879962195598, 0.3...</td>\n",
       "      <td>[0.6842844772341847, 0.7451788655002428, 0.548...</td>\n",
       "    </tr>\n",
       "    <tr>\n",
       "      <th>molecule3</th>\n",
       "      <td>[[0.0, 0.0, 0.0, 1.9999999999999898], [-0.3048...</td>\n",
       "      <td>8.069632</td>\n",
       "      <td>0.002183</td>\n",
       "      <td>[-0.29648448097328045, 0.08838597593279976, 0....</td>\n",
       "      <td>[0.6789758361415716, 0.7469610023101305, 0.552...</td>\n",
       "    </tr>\n",
       "    <tr>\n",
       "      <th>molecule4</th>\n",
       "      <td>[[0.0, 0.0, 0.0, 1.9999999999999898], [-0.2962...</td>\n",
       "      <td>8.341740</td>\n",
       "      <td>0.003870</td>\n",
       "      <td>[-0.2883169027860659, 0.14662396846085074, 0.2...</td>\n",
       "      <td>[0.7049017291351686, 0.7493119416169254, 0.565...</td>\n",
       "    </tr>\n",
       "    <tr>\n",
       "      <th>molecule5</th>\n",
       "      <td>[[0.0, 0.0, 0.0, 1.9999999999999898], [-0.5031...</td>\n",
       "      <td>14.476851</td>\n",
       "      <td>0.004453</td>\n",
       "      <td>[-0.5336687057771887, 0.34768207679972163, 0.3...</td>\n",
       "      <td>[1.0828721423977732, 1.0831508911897814, 0.844...</td>\n",
       "    </tr>\n",
       "  </tbody>\n",
       "</table>\n",
       "</div>"
      ],
      "text/plain": [
       "                                                     shape_array  \\\n",
       "molecule_name                                                      \n",
       "molecule1      [[0.0, 0.0, 0.0, 1.9999999999999898], [-0.3582...   \n",
       "molecule2      [[0.0, 0.0, 0.0, 1.9999999999999898], [-0.3084...   \n",
       "molecule3      [[0.0, 0.0, 0.0, 1.9999999999999898], [-0.3048...   \n",
       "molecule4      [[0.0, 0.0, 0.0, 1.9999999999999898], [-0.2962...   \n",
       "molecule5      [[0.0, 0.0, 0.0, 1.9999999999999898], [-0.5031...   \n",
       "\n",
       "               molecule_volume  volume_error  \\\n",
       "molecule_name                                  \n",
       "molecule1             7.958284      0.003365   \n",
       "molecule2             8.046176      0.002423   \n",
       "molecule3             8.069632      0.002183   \n",
       "molecule4             8.341740      0.003870   \n",
       "molecule5            14.476851      0.004453   \n",
       "\n",
       "                                                    molecule_com  \\\n",
       "molecule_name                                                      \n",
       "molecule1      [-0.3325444707232998, 0.052542255215747055, 0....   \n",
       "molecule2      [-0.2845873244493337, 0.11497879962195598, 0.3...   \n",
       "molecule3      [-0.29648448097328045, 0.08838597593279976, 0....   \n",
       "molecule4      [-0.2883169027860659, 0.14662396846085074, 0.2...   \n",
       "molecule5      [-0.5336687057771887, 0.34768207679972163, 0.3...   \n",
       "\n",
       "                                                molecule_inertia  \n",
       "molecule_name                                                     \n",
       "molecule1      [0.6480621744720472, 0.7445677523477693, 0.560...  \n",
       "molecule2      [0.6842844772341847, 0.7451788655002428, 0.548...  \n",
       "molecule3      [0.6789758361415716, 0.7469610023101305, 0.552...  \n",
       "molecule4      [0.7049017291351686, 0.7493119416169254, 0.565...  \n",
       "molecule5      [1.0828721423977732, 1.0831508911897814, 0.844...  "
      ]
     },
     "execution_count": 48,
     "metadata": {},
     "output_type": "execute_result"
    }
   ],
   "source": [
    "df.head()"
   ]
  },
  {
   "cell_type": "code",
   "execution_count": 60,
   "metadata": {},
   "outputs": [
    {
     "data": {
      "text/plain": [
       "[-0.5336687057771887, 0.34768207679972163, 0.33152730702799016]"
      ]
     },
     "execution_count": 60,
     "metadata": {},
     "output_type": "execute_result"
    }
   ],
   "source": [
    "df.loc['molecule5','molecule_com']"
   ]
  },
  {
   "cell_type": "code",
   "execution_count": 63,
   "metadata": {},
   "outputs": [
    {
     "data": {
      "text/plain": [
       "[1.0828721423977732,\n",
       " 1.0831508911897814,\n",
       " 0.8448792539560788,\n",
       " 0.09885709145694331,\n",
       " -0.06299628711618373,\n",
       " 0.13691571716250622]"
      ]
     },
     "execution_count": 63,
     "metadata": {},
     "output_type": "execute_result"
    }
   ],
   "source": [
    "df.loc['molecule5','molecule_inertia']"
   ]
  },
  {
   "cell_type": "code",
   "execution_count": 64,
   "metadata": {},
   "outputs": [],
   "source": [
    "df.to_csv(\"C:/Users/ahw617/Documents/Esma Kurban PhD/LAMMPS/5-sphere/predicted_shapes_Adrian/shapeinfo.csv\")"
   ]
  },
  {
   "cell_type": "code",
   "execution_count": null,
   "metadata": {},
   "outputs": [],
   "source": []
  }
 ],
 "metadata": {
  "kernelspec": {
   "display_name": "Python 3",
   "language": "python",
   "name": "python3"
  },
  "language_info": {
   "codemirror_mode": {
    "name": "ipython",
    "version": 3
   },
   "file_extension": ".py",
   "mimetype": "text/x-python",
   "name": "python",
   "nbconvert_exporter": "python",
   "pygments_lexer": "ipython3",
   "version": "3.8.3"
  }
 },
 "nbformat": 4,
 "nbformat_minor": 4
}
